{
 "cells": [
  {
   "cell_type": "markdown",
   "metadata": {},
   "source": [
    "# Accesing and merging multiple CSV files"
   ]
  },
  {
   "cell_type": "code",
   "execution_count": 3,
   "metadata": {},
   "outputs": [
    {
     "name": "stdout",
     "output_type": "stream",
     "text": [
      "Directory contents: ['AAPL_historical_data.csv', 'NVDA_historical_data.csv', 'MSFT_historical_data.csv', 'TSLA_historical_data.csv', 'GOOG_historical_data.csv', 'AMZN_historical_data.csv', 'META_historical_data.csv']\n",
      "CSV files found: ['../data/yfinance_data/AAPL_historical_data.csv', '../data/yfinance_data/NVDA_historical_data.csv', '../data/yfinance_data/MSFT_historical_data.csv', '../data/yfinance_data/TSLA_historical_data.csv', '../data/yfinance_data/GOOG_historical_data.csv', '../data/yfinance_data/AMZN_historical_data.csv', '../data/yfinance_data/META_historical_data.csv']\n",
      "         Date      Open      High       Low     Close  Adj Close     Volume  \\\n",
      "0  1980-12-12  0.128348  0.128906  0.128348  0.128348   0.098943  469033600   \n",
      "1  1980-12-15  0.122210  0.122210  0.121652  0.121652   0.093781  175884800   \n",
      "2  1980-12-16  0.113281  0.113281  0.112723  0.112723   0.086898  105728000   \n",
      "3  1980-12-17  0.115513  0.116071  0.115513  0.115513   0.089049   86441600   \n",
      "4  1980-12-18  0.118862  0.119420  0.118862  0.118862   0.091630   73449600   \n",
      "\n",
      "   Dividends  Stock Splits  \n",
      "0        0.0           0.0  \n",
      "1        0.0           0.0  \n",
      "2        0.0           0.0  \n",
      "3        0.0           0.0  \n",
      "4        0.0           0.0  \n"
     ]
    }
   ],
   "source": [
    "import glob\n",
    "import os\n",
    "import pandas as pd\n",
    "import plotly.express as px\n",
    "\n",
    "# Path to CSV files\n",
    "csv_directory = '../data/yfinance_data/'\n",
    "\n",
    "# Verify the directory and files\n",
    "print(\"Directory contents:\", os.listdir(csv_directory))\n",
    "csv_files = glob.glob(os.path.join(csv_directory, '*.csv'))\n",
    "print(\"CSV files found:\", csv_files)\n",
    "\n",
    "# Load and concatenate all CSV files into one DataFrame\n",
    "data_frames = [pd.read_csv(file) for file in csv_files]\n",
    "if not data_frames:\n",
    "    raise ValueError(\"No data frames to concatenate.\")\n",
    "\n",
    "combined_df = pd.concat(data_frames, ignore_index=True)\n",
    "\n",
    "# Display the first few rows of the combined DataFrame\n",
    "print(combined_df.head())"
   ]
  },
  {
   "cell_type": "markdown",
   "metadata": {},
   "source": [
    "# Preprocessing the Combined data"
   ]
  },
  {
   "cell_type": "code",
   "execution_count": 4,
   "metadata": {},
   "outputs": [
    {
     "name": "stdout",
     "output_type": "stream",
     "text": [
      "Columns in combined_df: Index(['Date', 'Open', 'High', 'Low', 'Close', 'Adj Close', 'Volume',\n",
      "       'Dividends', 'Stock Splits'],\n",
      "      dtype='object')\n",
      "                Open      High       Low     Close  Adj Close     Volume  \\\n",
      "Date                                                                       \n",
      "1980-12-12  0.128348  0.128906  0.128348  0.128348   0.098943  469033600   \n",
      "1980-12-15  0.122210  0.122210  0.121652  0.121652   0.093781  175884800   \n",
      "1980-12-16  0.113281  0.113281  0.112723  0.112723   0.086898  105728000   \n",
      "1980-12-17  0.115513  0.116071  0.115513  0.115513   0.089049   86441600   \n",
      "1980-12-18  0.118862  0.119420  0.118862  0.118862   0.091630   73449600   \n",
      "\n",
      "            Dividends  Stock Splits  \n",
      "Date                                 \n",
      "1980-12-12        0.0           0.0  \n",
      "1980-12-15        0.0           0.0  \n",
      "1980-12-16        0.0           0.0  \n",
      "1980-12-17        0.0           0.0  \n",
      "1980-12-18        0.0           0.0  \n"
     ]
    }
   ],
   "source": [
    "# Load and concatenate all CSV files into one DataFrame\n",
    "data_frames = [pd.read_csv(file) for file in csv_files]\n",
    "if not data_frames:\n",
    "    raise ValueError(\"No data frames to concatenate.\")\n",
    "\n",
    "combined_df = pd.concat(data_frames, ignore_index=True)\n",
    "\n",
    "# Display the column names \n",
    "print(\"Columns in combined_df:\", combined_df.columns)\n",
    "\n",
    "# Convert 'Date' column to datetime format\n",
    "if 'Date' in combined_df.columns:\n",
    "    combined_df['Date'] = pd.to_datetime(combined_df['Date'], errors='coerce')  # Use errors='coerce' to handle any invalid date formats\n",
    "    combined_df.set_index('Date', inplace=True)\n",
    "else:\n",
    "    print(\"Column 'Date' not found in the DataFrame.\")\n",
    "\n",
    "# Display the DataFrame structure to confirm it is ready for TA-Lib\n",
    "print(combined_df.head())"
   ]
  },
  {
   "cell_type": "markdown",
   "metadata": {},
   "source": [
    "# Apply Analysis Indicators with TA-Lib"
   ]
  },
  {
   "cell_type": "code",
   "execution_count": 1,
   "metadata": {},
   "outputs": [
    {
     "ename": "ModuleNotFoundError",
     "evalue": "No module named 'talib'",
     "output_type": "error",
     "traceback": [
      "\u001b[0;31m---------------------------------------------------------------------------\u001b[0m",
      "\u001b[0;31mModuleNotFoundError\u001b[0m                       Traceback (most recent call last)",
      "Cell \u001b[0;32mIn[1], line 1\u001b[0m\n\u001b[0;32m----> 1\u001b[0m \u001b[38;5;28;01mimport\u001b[39;00m \u001b[38;5;21;01mtalib\u001b[39;00m \u001b[38;5;28;01mas\u001b[39;00m \u001b[38;5;21;01mta\u001b[39;00m\n\u001b[1;32m      2\u001b[0m combined_df[\u001b[38;5;124m'\u001b[39m\u001b[38;5;124mSMA_20\u001b[39m\u001b[38;5;124m'\u001b[39m] \u001b[38;5;241m=\u001b[39m ta\u001b[38;5;241m.\u001b[39mSMA(combined_df[\u001b[38;5;124m'\u001b[39m\u001b[38;5;124mClose\u001b[39m\u001b[38;5;124m'\u001b[39m], timeperiod\u001b[38;5;241m=\u001b[39m\u001b[38;5;241m20\u001b[39m)\n\u001b[1;32m      3\u001b[0m combined_df[\u001b[38;5;124m'\u001b[39m\u001b[38;5;124mRSI_14\u001b[39m\u001b[38;5;124m'\u001b[39m] \u001b[38;5;241m=\u001b[39m ta\u001b[38;5;241m.\u001b[39mRSI(combined_df[\u001b[38;5;124m'\u001b[39m\u001b[38;5;124mClose\u001b[39m\u001b[38;5;124m'\u001b[39m], timeperiod\u001b[38;5;241m=\u001b[39m\u001b[38;5;241m14\u001b[39m)\n",
      "\u001b[0;31mModuleNotFoundError\u001b[0m: No module named 'talib'"
     ]
    }
   ],
   "source": [
    "import talib as ta\n",
    "combined_df['SMA_20'] = ta.SMA(combined_df['Close'], timeperiod=20)\n",
    "combined_df['RSI_14'] = ta.RSI(combined_df['Close'], timeperiod=14)\n",
    "combined_df['MACD'], combined_df['MACD_signal'], combined_df['MACD_hist'] = ta.MACD(combined_df['Close'])\n",
    "\n",
    "# Display the DataFrame with added indicators\n",
    "print(combined_df.head())"
   ]
  },
  {
   "cell_type": "markdown",
   "metadata": {},
   "source": [
    "# Visualiazation"
   ]
  },
  {
   "cell_type": "code",
   "execution_count": 7,
   "metadata": {},
   "outputs": [
    {
     "name": "stdout",
     "output_type": "stream",
     "text": [
      "\u001b[31mERROR: TA_Lib-0.4.32-cp311-cp311-win_amd64.whl is not a supported wheel on this platform.\u001b[0m\u001b[31m\n",
      "\u001b[0m\n",
      "\u001b[1m[\u001b[0m\u001b[34;49mnotice\u001b[0m\u001b[1;39;49m]\u001b[0m\u001b[39;49m A new release of pip is available: \u001b[0m\u001b[31;49m23.2.1\u001b[0m\u001b[39;49m -> \u001b[0m\u001b[32;49m24.2\u001b[0m\n",
      "\u001b[1m[\u001b[0m\u001b[34;49mnotice\u001b[0m\u001b[1;39;49m]\u001b[0m\u001b[39;49m To update, run: \u001b[0m\u001b[32;49mpip install --upgrade pip\u001b[0m\n",
      "Note: you may need to restart the kernel to use updated packages.\n"
     ]
    }
   ],
   "source": [
    "# Plot stock price with SMA\n",
    "fig = px.line(combined_df, x=combined_df.index, y=['Close', 'SMA_20'], title='Stock Price with 20-Day SMA')\n",
    "fig.show()\n",
    "\n",
    "# Plot RSI\n",
    "fig = px.line(combined_df, x=combined_df.index, y='RSI_14', title='Relative Strength Index (RSI)')\n",
    "fig.add_hline(y=70, line_dash=\"dash\", line_color=\"red\")\n",
    "fig.add_hline(y=30, line_dash=\"dash\", line_color=\"green\")\n",
    "fig.show()\n",
    "\n",
    "# Plot MACD\n",
    "fig = px.line(combined_df, x=combined_df.index, y=['MACD', 'MACD_signal'], title='MACD')\n",
    "fig.show()"
   ]
  },
  {
   "cell_type": "markdown",
   "metadata": {},
   "source": []
  }
 ],
 "metadata": {
  "kernelspec": {
   "display_name": "Python 3 (ipykernel)",
   "language": "python",
   "name": "python3"
  },
  "language_info": {
   "codemirror_mode": {
    "name": "ipython",
    "version": 3
   },
   "file_extension": ".py",
   "mimetype": "text/x-python",
   "name": "python",
   "nbconvert_exporter": "python",
   "pygments_lexer": "ipython3",
   "version": "3.12.1"
  }
 },
 "nbformat": 4,
 "nbformat_minor": 2
}
